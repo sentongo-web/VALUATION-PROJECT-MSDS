{
 "cells": [
  {
   "cell_type": "code",
   "execution_count": 1,
   "id": "69c838e3",
   "metadata": {},
   "outputs": [
    {
     "name": "stdout",
     "output_type": "stream",
     "text": [
      "Collecting faker\n",
      "  Downloading faker-37.1.0-py3-none-any.whl.metadata (15 kB)\n",
      "Requirement already satisfied: tzdata in d:\\projects\\personal projects\\personal_projects\\personal_projects\\.conda\\lib\\site-packages (from faker) (2024.1)\n",
      "Downloading faker-37.1.0-py3-none-any.whl (1.9 MB)\n",
      "   ---------------------------------------- 0.0/1.9 MB ? eta -:--:--\n",
      "   ---------------------------------------- 0.0/1.9 MB ? eta -:--:--\n",
      "   ---------------------------------------- 0.0/1.9 MB ? eta -:--:--\n",
      "   ---------- ----------------------------- 0.5/1.9 MB 1.9 MB/s eta 0:00:01\n",
      "   -------------------------------------- - 1.8/1.9 MB 4.2 MB/s eta 0:00:01\n",
      "   ---------------------------------------- 1.9/1.9 MB 4.2 MB/s eta 0:00:00\n",
      "Installing collected packages: faker\n",
      "Successfully installed faker-37.1.0\n"
     ]
    }
   ],
   "source": [
    "! pip install faker"
   ]
  },
  {
   "cell_type": "code",
   "execution_count": 3,
   "id": "0647800c",
   "metadata": {},
   "outputs": [],
   "source": [
    "import pandas as pd\n",
    "import numpy as np\n",
    "from faker import Faker\n",
    "\n",
    "fake = Faker()\n",
    "\n",
    "# Define constants\n",
    "NUM_ROWS = 1000  # Adjust this for desired dataset size\n",
    "EXCHANGE_RATE = 3700  # 1 USD = 3,700 UGX\n",
    "COUNTRIES = [\"China\", \"India\", \"Germany\", \"USA\", \"Japan\", \"South Korea\", \"Kenya\", \"South Africa\"]\n",
    "PRODUCTS = {\n",
    "    \"Electronics\": {\"HS_Codes\": [\"8542\", \"8517\", \"8523\"], \"Tax_Rate\": [0.1, 0.15]},\n",
    "    \"Machinery\": {\"HS_Codes\": [\"8479\", \"8481\", \"8430\"], \"Tax_Rate\": [0.15, 0.2]},\n",
    "    \"Textiles\": {\"HS_Codes\": [\"5407\", \"5408\", \"6110\"], \"Tax_Rate\": [0.05, 0.1]},\n",
    "    \"Food Products\": {\"HS_Codes\": [\"0403\", \"0702\", \"1701\"], \"Tax_Rate\": [0.05, 0.1]},\n",
    "    \"Pharmaceuticals\": {\"HS_Codes\": [\"3004\", \"2937\", \"2941\"], \"Tax_Rate\": [0.05, 0.15]},\n",
    "}\n",
    "\n",
    "def generate_dataset(num_rows):\n",
    "    data = []\n",
    "    for _ in range(num_rows):\n",
    "        # Randomly select product category and attributes\n",
    "        product = np.random.choice(list(PRODUCTS.keys()))\n",
    "        hs_code = np.random.choice(PRODUCTS[product][\"HS_Codes\"])\n",
    "        tax_rate = np.random.choice(PRODUCTS[product][\"Tax_Rate\"])\n",
    "        country = np.random.choice(COUNTRIES)\n",
    "        quantity = np.random.randint(10, 5000)\n",
    "        net_mass = np.random.randint(50, 10000)\n",
    "        gross_mass = net_mass + np.random.randint(10, 500)\n",
    "        cif_usd = np.random.uniform(1000, 500000)\n",
    "        cif_ugx = cif_usd * EXCHANGE_RATE\n",
    "        unit_price_actual = cif_ugx / quantity\n",
    "        unit_price_predicted = unit_price_actual * np.random.uniform(0.8, 1.2)  # ±20% noise\n",
    "        deviation = (unit_price_actual - unit_price_predicted) / unit_price_predicted\n",
    "        valuation_label = 1 if deviation > 0.2 else 0 if deviation < -0.2 else np.nan\n",
    "\n",
    "        data.append({\n",
    "            \"Date\": fake.date_between(start_date=\"-3y\", end_date=\"today\"),\n",
    "            \"Item_Description\": product,\n",
    "            \"HS_Code\": hs_code,\n",
    "            \"Country_of_Origin\": country,\n",
    "            \"Quantity\": quantity,\n",
    "            \"Net_Mass_kg\": net_mass,\n",
    "            \"Gross_Mass_kg\": gross_mass,\n",
    "            \"CIF_Value_USD\": round(cif_usd, 2),\n",
    "            \"CIF_Value_UGX\": round(cif_ugx, 2),\n",
    "            \"Unit_Price_Actual_UGX\": round(unit_price_actual, 2),\n",
    "            \"Unit_Price_Predicted_UGX\": round(unit_price_predicted, 2),\n",
    "            \"Tax_Rate\": tax_rate,\n",
    "            \"Currency_Code\": \"USD\",\n",
    "            \"Valuation_Label\": valuation_label\n",
    "        })\n",
    "    \n",
    "    return pd.DataFrame(data)\n",
    "\n",
    "# Generate and save CSV\n",
    "df = generate_dataset(NUM_ROWS)\n",
    "df.to_csv(\"uganda_import_valuation_large.csv\", index=False)\n"
   ]
  }
 ],
 "metadata": {
  "kernelspec": {
   "display_name": "Python 3",
   "language": "python",
   "name": "python3"
  },
  "language_info": {
   "codemirror_mode": {
    "name": "ipython",
    "version": 3
   },
   "file_extension": ".py",
   "mimetype": "text/x-python",
   "name": "python",
   "nbconvert_exporter": "python",
   "pygments_lexer": "ipython3",
   "version": "3.11.9"
  }
 },
 "nbformat": 4,
 "nbformat_minor": 5
}
